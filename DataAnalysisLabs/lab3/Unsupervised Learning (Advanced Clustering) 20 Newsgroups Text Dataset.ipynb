{
  "cells": [
    {
      "cell_type": "markdown",
      "source": [
        "# <a>**Lab_3**"
      ],
      "metadata": {
        "id": "y6zZo-w-C8ld"
      }
    },
    {
      "cell_type": "markdown",
      "source": [
        "```\n",
        "Name:Fatma Eldesouky\n",
        "Id:22\n",
        "```"
      ],
      "metadata": {
        "id": "d5vQBSrrF1G2"
      }
    },
    {
      "cell_type": "markdown",
      "source": [
        "# **Documentation**"
      ],
      "metadata": {
        "id": "jagsGGEqG5ba"
      }
    },
    {
      "cell_type": "markdown",
      "source": [
        "### **Content**\n",
        "\n",
        "\n",
        "*   Unsupervised Learning (Advanced Clustering)\n",
        "*   Required libraries\n",
        "*   About dataset\n",
        "*   Read the dataset\n",
        "*   Statistics of the dataset\n",
        "*   Data cleaning\n",
        "*   Tfidf Vectorizer\n",
        "*   Kmeans and Kmeans++\n",
        "*   Random intilization\n",
        "*   Evaluation Metric Clustering\n",
        "*   k-means++ initialization\n",
        "*   Evaluation Metric Clustering\n",
        "*   KMeans with PCA\n",
        "*   KMeans++ with PCA\n",
        "*   compare the performance Mutual Information (MI)\n"
      ],
      "metadata": {
        "id": "TQIl8T8vGruF"
      }
    },
    {
      "cell_type": "markdown",
      "source": [
        "###**Unsupervised Learning (Advanced Clustering)**\n"
      ],
      "metadata": {
        "id": "b5NS1IWqNbD2"
      }
    },
    {
      "cell_type": "markdown",
      "metadata": {
        "id": "yz0j_vQLv7TZ"
      },
      "source": [
        "\n",
        "`Goal:`\n",
        "\n",
        "`For this lab we will use Scikit-Learn’s API, sklearn.datasets, \n",
        "which allows us to access a famous dataset for linguistic analysis, \n",
        "the 20newsgroups dataset. A newsgroup is an online user discussion \n",
        "group, such as a forum. Sklearn allows us to access different categories \n",
        "of content. We will use texts that have to do with technology, religion and sport.`\n",
        "\n",
        "task is to perform clustering on the given dataset.\n",
        "\n",
        "\n"
      ]
    },
    {
      "cell_type": "markdown",
      "source": [
        "### **Required libraries**"
      ],
      "metadata": {
        "id": "27C0YJmkGYo9"
      }
    },
    {
      "cell_type": "code",
      "execution_count": null,
      "metadata": {
        "id": "38EWl96Pv7Td"
      },
      "outputs": [],
      "source": [
        "# Import needed libraries. E.g., pandas, sklearn, nltk, etc. \n",
        "import pandas as pd\n",
        "import numpy as np \n",
        "import matplotlib.pyplot as plt\n",
        "\n",
        "import seaborn as sns\n",
        "sns.set(context=\"notebook\", palette=\"Spectral\", style = 'darkgrid' ,font_scale = 1.5, color_codes=True)\n",
        "import sklearn\n",
        "import nltk\n",
        "import re\n",
        "from sklearn.datasets import fetch_20newsgroups\n",
        "from nltk.stem.snowball import SnowballStemmer\n",
        "from nltk.tokenize import word_tokenize\n",
        "import warnings\n",
        "\n",
        "warnings.filterwarnings(\"ignore\")"
      ]
    },
    {
      "cell_type": "markdown",
      "source": [
        "### **About dataset**"
      ],
      "metadata": {
        "id": "XcE0Hnj4Hiqm"
      }
    },
    {
      "cell_type": "markdown",
      "source": [
        "\n",
        "`The 20 newsgroups dataset comprises around 18000 newsgroups posts on 20 topics split in two subsets: one for training (or development) and the other one for testing (or for performance evaluation). The split between the train and test set is based upon a messages posted before and after a specific date`"
      ],
      "metadata": {
        "id": "ZzDCM7g8EGst"
      }
    },
    {
      "cell_type": "markdown",
      "source": [
        "## **Task 1**"
      ],
      "metadata": {
        "id": "BwCP3KgRZqnN"
      }
    },
    {
      "cell_type": "markdown",
      "metadata": {
        "id": "NXlAtDnNv7Te"
      },
      "source": [
        "`1-Read the dataset`\n",
        "\n",
        "`2-report the basic statistics of the dataset`\n",
        "\n",
        "`3-import data from sklearn.datasets and selecte pre-defined categories:`\n",
        "\n",
        "```\n",
        "categories = [\n",
        " 'comp.graphics',\n",
        " 'comp.os.ms-windows.misc',\n",
        " 'rec.sport.baseball',\n",
        " 'rec.sport.hockey',\n",
        " 'alt.atheism',\n",
        "]\n",
        "\n",
        "dataset = fetch_20newsgroups(subset='train', categories=categories, shuffle=True, remove=('headers', 'footers', 'quotes'))\n",
        "```\n",
        "\n",
        "\n"
      ]
    },
    {
      "cell_type": "markdown",
      "source": [
        "### **Read the dataset**"
      ],
      "metadata": {
        "id": "HppRTuQnHxCm"
      }
    },
    {
      "cell_type": "code",
      "source": [
        "from sklearn.datasets import fetch_20newsgroups\n",
        "newsgroups_train = fetch_20newsgroups(subset='train')\n",
        "from pprint import pprint\n",
        "pprint(list(newsgroups_train.target_names))"
      ],
      "metadata": {
        "colab": {
          "base_uri": "https://localhost:8080/"
        },
        "id": "hqpQtrK_IOk_",
        "outputId": "357425cc-5ffb-4d5e-839a-0c1d91b1c935"
      },
      "execution_count": null,
      "outputs": [
        {
          "output_type": "stream",
          "name": "stdout",
          "text": [
            "['alt.atheism',\n",
            " 'comp.graphics',\n",
            " 'comp.os.ms-windows.misc',\n",
            " 'comp.sys.ibm.pc.hardware',\n",
            " 'comp.sys.mac.hardware',\n",
            " 'comp.windows.x',\n",
            " 'misc.forsale',\n",
            " 'rec.autos',\n",
            " 'rec.motorcycles',\n",
            " 'rec.sport.baseball',\n",
            " 'rec.sport.hockey',\n",
            " 'sci.crypt',\n",
            " 'sci.electronics',\n",
            " 'sci.med',\n",
            " 'sci.space',\n",
            " 'soc.religion.christian',\n",
            " 'talk.politics.guns',\n",
            " 'talk.politics.mideast',\n",
            " 'talk.politics.misc',\n",
            " 'talk.religion.misc']\n"
          ]
        }
      ]
    },
    {
      "cell_type": "code",
      "execution_count": null,
      "metadata": {
        "id": "mViFr0xvv7Tf"
      },
      "outputs": [],
      "source": [
        "# TODO code for task 1\n",
        "from sklearn.datasets import fetch_20newsgroups\n",
        "categories = [ 'comp.graphics', 'comp.os.ms-windows.misc', 'rec.sport.baseball', 'rec.sport.hockey', 'alt.atheism', ]\n",
        "dataset = fetch_20newsgroups(subset='train', categories=categories, shuffle=True, remove=('headers', 'footers', 'quotes'))"
      ]
    },
    {
      "cell_type": "code",
      "source": [
        "#split dataset to feature and label (X,Y)\n",
        "X=dataset.data\n",
        "Y=dataset.target"
      ],
      "metadata": {
        "id": "KQcEQnIgyHhK"
      },
      "execution_count": null,
      "outputs": []
    },
    {
      "cell_type": "code",
      "source": [
        "df=pd.DataFrame(X)\n",
        "df_Y=pd.DataFrame(Y)\n",
        "df.head()"
      ],
      "metadata": {
        "colab": {
          "base_uri": "https://localhost:8080/",
          "height": 206
        },
        "id": "4MPRSFFlaQiM",
        "outputId": "8f0e88d6-e5bf-4d26-a5ef-5c30cc97efe2"
      },
      "execution_count": null,
      "outputs": [
        {
          "output_type": "execute_result",
          "data": {
            "text/plain": [
              "                                                   0\n",
              "0  I just moved from Borland C++ 3.0 to Visual C+...\n",
              "1  \\n: \\tNice cop out bill.\\n\\nI'm sure you're ri...\n",
              "2  I'm attempting to transfer files from my home ...\n",
              "3  \\nThen not murdering would have no moral signi...\n",
              "4  \\nI could give much the same testimonial about..."
            ],
            "text/html": [
              "\n",
              "  <div id=\"df-f97d656c-6c6a-4a90-91d5-44d4c76a4d2e\">\n",
              "    <div class=\"colab-df-container\">\n",
              "      <div>\n",
              "<style scoped>\n",
              "    .dataframe tbody tr th:only-of-type {\n",
              "        vertical-align: middle;\n",
              "    }\n",
              "\n",
              "    .dataframe tbody tr th {\n",
              "        vertical-align: top;\n",
              "    }\n",
              "\n",
              "    .dataframe thead th {\n",
              "        text-align: right;\n",
              "    }\n",
              "</style>\n",
              "<table border=\"1\" class=\"dataframe\">\n",
              "  <thead>\n",
              "    <tr style=\"text-align: right;\">\n",
              "      <th></th>\n",
              "      <th>0</th>\n",
              "    </tr>\n",
              "  </thead>\n",
              "  <tbody>\n",
              "    <tr>\n",
              "      <th>0</th>\n",
              "      <td>I just moved from Borland C++ 3.0 to Visual C+...</td>\n",
              "    </tr>\n",
              "    <tr>\n",
              "      <th>1</th>\n",
              "      <td>\\n: \\tNice cop out bill.\\n\\nI'm sure you're ri...</td>\n",
              "    </tr>\n",
              "    <tr>\n",
              "      <th>2</th>\n",
              "      <td>I'm attempting to transfer files from my home ...</td>\n",
              "    </tr>\n",
              "    <tr>\n",
              "      <th>3</th>\n",
              "      <td>\\nThen not murdering would have no moral signi...</td>\n",
              "    </tr>\n",
              "    <tr>\n",
              "      <th>4</th>\n",
              "      <td>\\nI could give much the same testimonial about...</td>\n",
              "    </tr>\n",
              "  </tbody>\n",
              "</table>\n",
              "</div>\n",
              "      <button class=\"colab-df-convert\" onclick=\"convertToInteractive('df-f97d656c-6c6a-4a90-91d5-44d4c76a4d2e')\"\n",
              "              title=\"Convert this dataframe to an interactive table.\"\n",
              "              style=\"display:none;\">\n",
              "        \n",
              "  <svg xmlns=\"http://www.w3.org/2000/svg\" height=\"24px\"viewBox=\"0 0 24 24\"\n",
              "       width=\"24px\">\n",
              "    <path d=\"M0 0h24v24H0V0z\" fill=\"none\"/>\n",
              "    <path d=\"M18.56 5.44l.94 2.06.94-2.06 2.06-.94-2.06-.94-.94-2.06-.94 2.06-2.06.94zm-11 1L8.5 8.5l.94-2.06 2.06-.94-2.06-.94L8.5 2.5l-.94 2.06-2.06.94zm10 10l.94 2.06.94-2.06 2.06-.94-2.06-.94-.94-2.06-.94 2.06-2.06.94z\"/><path d=\"M17.41 7.96l-1.37-1.37c-.4-.4-.92-.59-1.43-.59-.52 0-1.04.2-1.43.59L10.3 9.45l-7.72 7.72c-.78.78-.78 2.05 0 2.83L4 21.41c.39.39.9.59 1.41.59.51 0 1.02-.2 1.41-.59l7.78-7.78 2.81-2.81c.8-.78.8-2.07 0-2.86zM5.41 20L4 18.59l7.72-7.72 1.47 1.35L5.41 20z\"/>\n",
              "  </svg>\n",
              "      </button>\n",
              "      \n",
              "  <style>\n",
              "    .colab-df-container {\n",
              "      display:flex;\n",
              "      flex-wrap:wrap;\n",
              "      gap: 12px;\n",
              "    }\n",
              "\n",
              "    .colab-df-convert {\n",
              "      background-color: #E8F0FE;\n",
              "      border: none;\n",
              "      border-radius: 50%;\n",
              "      cursor: pointer;\n",
              "      display: none;\n",
              "      fill: #1967D2;\n",
              "      height: 32px;\n",
              "      padding: 0 0 0 0;\n",
              "      width: 32px;\n",
              "    }\n",
              "\n",
              "    .colab-df-convert:hover {\n",
              "      background-color: #E2EBFA;\n",
              "      box-shadow: 0px 1px 2px rgba(60, 64, 67, 0.3), 0px 1px 3px 1px rgba(60, 64, 67, 0.15);\n",
              "      fill: #174EA6;\n",
              "    }\n",
              "\n",
              "    [theme=dark] .colab-df-convert {\n",
              "      background-color: #3B4455;\n",
              "      fill: #D2E3FC;\n",
              "    }\n",
              "\n",
              "    [theme=dark] .colab-df-convert:hover {\n",
              "      background-color: #434B5C;\n",
              "      box-shadow: 0px 1px 3px 1px rgba(0, 0, 0, 0.15);\n",
              "      filter: drop-shadow(0px 1px 2px rgba(0, 0, 0, 0.3));\n",
              "      fill: #FFFFFF;\n",
              "    }\n",
              "  </style>\n",
              "\n",
              "      <script>\n",
              "        const buttonEl =\n",
              "          document.querySelector('#df-f97d656c-6c6a-4a90-91d5-44d4c76a4d2e button.colab-df-convert');\n",
              "        buttonEl.style.display =\n",
              "          google.colab.kernel.accessAllowed ? 'block' : 'none';\n",
              "\n",
              "        async function convertToInteractive(key) {\n",
              "          const element = document.querySelector('#df-f97d656c-6c6a-4a90-91d5-44d4c76a4d2e');\n",
              "          const dataTable =\n",
              "            await google.colab.kernel.invokeFunction('convertToInteractive',\n",
              "                                                     [key], {});\n",
              "          if (!dataTable) return;\n",
              "\n",
              "          const docLinkHtml = 'Like what you see? Visit the ' +\n",
              "            '<a target=\"_blank\" href=https://colab.research.google.com/notebooks/data_table.ipynb>data table notebook</a>'\n",
              "            + ' to learn more about interactive tables.';\n",
              "          element.innerHTML = '';\n",
              "          dataTable['output_type'] = 'display_data';\n",
              "          await google.colab.output.renderOutput(dataTable, element);\n",
              "          const docLink = document.createElement('div');\n",
              "          docLink.innerHTML = docLinkHtml;\n",
              "          element.appendChild(docLink);\n",
              "        }\n",
              "      </script>\n",
              "    </div>\n",
              "  </div>\n",
              "  "
            ]
          },
          "metadata": {},
          "execution_count": 5
        }
      ]
    },
    {
      "cell_type": "code",
      "source": [
        "#display the true number of labels in our case\n",
        "label_y= len(np.unique(Y)) \n",
        "print(label_y)"
      ],
      "metadata": {
        "colab": {
          "base_uri": "https://localhost:8080/"
        },
        "id": "0x6ltjVq4GCD",
        "outputId": "765d0927-e60e-4462-9244-a2d106e4c4d2"
      },
      "execution_count": null,
      "outputs": [
        {
          "output_type": "stream",
          "name": "stdout",
          "text": [
            "5\n"
          ]
        }
      ]
    },
    {
      "cell_type": "code",
      "source": [
        "df.shape"
      ],
      "metadata": {
        "colab": {
          "base_uri": "https://localhost:8080/"
        },
        "id": "BfEjcGzQ4O07",
        "outputId": "755137ec-be86-41bd-9db1-db0451b88a2a"
      },
      "execution_count": null,
      "outputs": [
        {
          "output_type": "execute_result",
          "data": {
            "text/plain": [
              "(2852, 1)"
            ]
          },
          "metadata": {},
          "execution_count": 7
        }
      ]
    },
    {
      "cell_type": "markdown",
      "source": [
        "### **Statistics of the dataset**"
      ],
      "metadata": {
        "id": "3A2NCuRvJ6W9"
      }
    },
    {
      "cell_type": "markdown",
      "source": [
        "> Info:for printing a summary about the columns and data types in the dataframe"
      ],
      "metadata": {
        "id": "U6JbwgdVLI6G"
      }
    },
    {
      "cell_type": "code",
      "source": [
        "df.info()"
      ],
      "metadata": {
        "colab": {
          "base_uri": "https://localhost:8080/"
        },
        "id": "WXsBKv4Raj3V",
        "outputId": "d3cab73b-a698-4551-d037-e929fea3b8c0"
      },
      "execution_count": null,
      "outputs": [
        {
          "output_type": "stream",
          "name": "stdout",
          "text": [
            "<class 'pandas.core.frame.DataFrame'>\n",
            "RangeIndex: 2852 entries, 0 to 2851\n",
            "Data columns (total 1 columns):\n",
            " #   Column  Non-Null Count  Dtype \n",
            "---  ------  --------------  ----- \n",
            " 0   0       2852 non-null   object\n",
            "dtypes: object(1)\n",
            "memory usage: 22.4+ KB\n"
          ]
        }
      ]
    },
    {
      "cell_type": "markdown",
      "source": [
        "> check null values"
      ],
      "metadata": {
        "id": "3l70_0z6LSCd"
      }
    },
    {
      "cell_type": "code",
      "source": [
        "df.isnull().sum()"
      ],
      "metadata": {
        "colab": {
          "base_uri": "https://localhost:8080/"
        },
        "id": "JvaKDHCKb7eN",
        "outputId": "b11e7382-e9cf-4ba2-8bac-e660e752cd59"
      },
      "execution_count": null,
      "outputs": [
        {
          "output_type": "execute_result",
          "data": {
            "text/plain": [
              "0    0\n",
              "dtype: int64"
            ]
          },
          "metadata": {},
          "execution_count": 9
        }
      ]
    },
    {
      "cell_type": "markdown",
      "source": [
        "> describe: for showing statistical information about the nummerical values in the dataframe"
      ],
      "metadata": {
        "id": "WSJpc9TmK_6G"
      }
    },
    {
      "cell_type": "code",
      "source": [
        "#describe data\n",
        "df.describe(include='object').T"
      ],
      "metadata": {
        "colab": {
          "base_uri": "https://localhost:8080/",
          "height": 81
        },
        "id": "eTKA31PAL2MV",
        "outputId": "f5538858-1ac5-4fa2-813e-245da0ec5186"
      },
      "execution_count": null,
      "outputs": [
        {
          "output_type": "execute_result",
          "data": {
            "text/plain": [
              "  count unique top freq\n",
              "0  2852   2770       61"
            ],
            "text/html": [
              "\n",
              "  <div id=\"df-97ac8b52-40f3-49a3-8452-68a87880a482\">\n",
              "    <div class=\"colab-df-container\">\n",
              "      <div>\n",
              "<style scoped>\n",
              "    .dataframe tbody tr th:only-of-type {\n",
              "        vertical-align: middle;\n",
              "    }\n",
              "\n",
              "    .dataframe tbody tr th {\n",
              "        vertical-align: top;\n",
              "    }\n",
              "\n",
              "    .dataframe thead th {\n",
              "        text-align: right;\n",
              "    }\n",
              "</style>\n",
              "<table border=\"1\" class=\"dataframe\">\n",
              "  <thead>\n",
              "    <tr style=\"text-align: right;\">\n",
              "      <th></th>\n",
              "      <th>count</th>\n",
              "      <th>unique</th>\n",
              "      <th>top</th>\n",
              "      <th>freq</th>\n",
              "    </tr>\n",
              "  </thead>\n",
              "  <tbody>\n",
              "    <tr>\n",
              "      <th>0</th>\n",
              "      <td>2852</td>\n",
              "      <td>2770</td>\n",
              "      <td></td>\n",
              "      <td>61</td>\n",
              "    </tr>\n",
              "  </tbody>\n",
              "</table>\n",
              "</div>\n",
              "      <button class=\"colab-df-convert\" onclick=\"convertToInteractive('df-97ac8b52-40f3-49a3-8452-68a87880a482')\"\n",
              "              title=\"Convert this dataframe to an interactive table.\"\n",
              "              style=\"display:none;\">\n",
              "        \n",
              "  <svg xmlns=\"http://www.w3.org/2000/svg\" height=\"24px\"viewBox=\"0 0 24 24\"\n",
              "       width=\"24px\">\n",
              "    <path d=\"M0 0h24v24H0V0z\" fill=\"none\"/>\n",
              "    <path d=\"M18.56 5.44l.94 2.06.94-2.06 2.06-.94-2.06-.94-.94-2.06-.94 2.06-2.06.94zm-11 1L8.5 8.5l.94-2.06 2.06-.94-2.06-.94L8.5 2.5l-.94 2.06-2.06.94zm10 10l.94 2.06.94-2.06 2.06-.94-2.06-.94-.94-2.06-.94 2.06-2.06.94z\"/><path d=\"M17.41 7.96l-1.37-1.37c-.4-.4-.92-.59-1.43-.59-.52 0-1.04.2-1.43.59L10.3 9.45l-7.72 7.72c-.78.78-.78 2.05 0 2.83L4 21.41c.39.39.9.59 1.41.59.51 0 1.02-.2 1.41-.59l7.78-7.78 2.81-2.81c.8-.78.8-2.07 0-2.86zM5.41 20L4 18.59l7.72-7.72 1.47 1.35L5.41 20z\"/>\n",
              "  </svg>\n",
              "      </button>\n",
              "      \n",
              "  <style>\n",
              "    .colab-df-container {\n",
              "      display:flex;\n",
              "      flex-wrap:wrap;\n",
              "      gap: 12px;\n",
              "    }\n",
              "\n",
              "    .colab-df-convert {\n",
              "      background-color: #E8F0FE;\n",
              "      border: none;\n",
              "      border-radius: 50%;\n",
              "      cursor: pointer;\n",
              "      display: none;\n",
              "      fill: #1967D2;\n",
              "      height: 32px;\n",
              "      padding: 0 0 0 0;\n",
              "      width: 32px;\n",
              "    }\n",
              "\n",
              "    .colab-df-convert:hover {\n",
              "      background-color: #E2EBFA;\n",
              "      box-shadow: 0px 1px 2px rgba(60, 64, 67, 0.3), 0px 1px 3px 1px rgba(60, 64, 67, 0.15);\n",
              "      fill: #174EA6;\n",
              "    }\n",
              "\n",
              "    [theme=dark] .colab-df-convert {\n",
              "      background-color: #3B4455;\n",
              "      fill: #D2E3FC;\n",
              "    }\n",
              "\n",
              "    [theme=dark] .colab-df-convert:hover {\n",
              "      background-color: #434B5C;\n",
              "      box-shadow: 0px 1px 3px 1px rgba(0, 0, 0, 0.15);\n",
              "      filter: drop-shadow(0px 1px 2px rgba(0, 0, 0, 0.3));\n",
              "      fill: #FFFFFF;\n",
              "    }\n",
              "  </style>\n",
              "\n",
              "      <script>\n",
              "        const buttonEl =\n",
              "          document.querySelector('#df-97ac8b52-40f3-49a3-8452-68a87880a482 button.colab-df-convert');\n",
              "        buttonEl.style.display =\n",
              "          google.colab.kernel.accessAllowed ? 'block' : 'none';\n",
              "\n",
              "        async function convertToInteractive(key) {\n",
              "          const element = document.querySelector('#df-97ac8b52-40f3-49a3-8452-68a87880a482');\n",
              "          const dataTable =\n",
              "            await google.colab.kernel.invokeFunction('convertToInteractive',\n",
              "                                                     [key], {});\n",
              "          if (!dataTable) return;\n",
              "\n",
              "          const docLinkHtml = 'Like what you see? Visit the ' +\n",
              "            '<a target=\"_blank\" href=https://colab.research.google.com/notebooks/data_table.ipynb>data table notebook</a>'\n",
              "            + ' to learn more about interactive tables.';\n",
              "          element.innerHTML = '';\n",
              "          dataTable['output_type'] = 'display_data';\n",
              "          await google.colab.output.renderOutput(dataTable, element);\n",
              "          const docLink = document.createElement('div');\n",
              "          docLink.innerHTML = docLinkHtml;\n",
              "          element.appendChild(docLink);\n",
              "        }\n",
              "      </script>\n",
              "    </div>\n",
              "  </div>\n",
              "  "
            ]
          },
          "metadata": {},
          "execution_count": 10
        }
      ]
    },
    {
      "cell_type": "code",
      "source": [
        "# use the DataFrame.duplicated() method to return a series of boolean values\n",
        "df.duplicated(subset=None).all()"
      ],
      "metadata": {
        "colab": {
          "base_uri": "https://localhost:8080/"
        },
        "id": "nDI-F4rTLjQe",
        "outputId": "a7fa7fdd-f33e-4948-da7e-ed3223a18d33"
      },
      "execution_count": null,
      "outputs": [
        {
          "output_type": "execute_result",
          "data": {
            "text/plain": [
              "False"
            ]
          },
          "metadata": {},
          "execution_count": 11
        }
      ]
    },
    {
      "cell_type": "markdown",
      "source": [
        "\n",
        "\n",
        "---"
      ],
      "metadata": {
        "id": "L-6KliHKNzEH"
      }
    },
    {
      "cell_type": "markdown",
      "source": [
        "## **Task 2**"
      ],
      "metadata": {
        "id": "I8Jd8YwrdNGt"
      }
    },
    {
      "cell_type": "markdown",
      "source": [
        "`Use standard text preprocessing steps to preprocess raw textual content. \n",
        "A sample preprocessing function is provided as below.`"
      ],
      "metadata": {
        "id": "FGUsi5R1M8mG"
      }
    },
    {
      "cell_type": "markdown",
      "source": [
        "### **Data cleaning**"
      ],
      "metadata": {
        "id": "owDQAXJBMugH"
      }
    },
    {
      "cell_type": "code",
      "execution_count": null,
      "metadata": {
        "colab": {
          "base_uri": "https://localhost:8080/"
        },
        "id": "W0wQvcCIv7Tg",
        "outputId": "f5cd8e31-a4fb-4fca-b568-c98bd62cf616"
      },
      "outputs": [
        {
          "output_type": "stream",
          "name": "stdout",
          "text": [
            "[nltk_data] Downloading package punkt to /root/nltk_data...\n",
            "[nltk_data]   Package punkt is already up-to-date!\n",
            "[nltk_data] Downloading package stopwords to /root/nltk_data...\n",
            "[nltk_data]   Package stopwords is already up-to-date!\n"
          ]
        }
      ],
      "source": [
        "# applying text preprocessing\n",
        "import nltk\n",
        "from nltk.corpus import stopwords\n",
        "nltk.download('punkt')\n",
        "nltk.download(\"stopwords\")\n",
        "stemmer = SnowballStemmer(\"english\")\n",
        "stop_words = set(stopwords.words(\"english\"))\n",
        "\n",
        "def preprocess_text(text, remove_stopwords=True): \n",
        "  # remove links\n",
        "  text = re.sub(r\"http\\S+\", \"\", text)\n",
        "  # remove special chars and numbers\n",
        "  text = re.sub(\"[^A-Za-z]+\", \" \", text)\n",
        "  # remove stopwords\n",
        "  if remove_stopwords:\n",
        "      # 1. tokenize\n",
        "      tokens = nltk.word_tokenize(text)\n",
        "      # 2. check if stopword\n",
        "      tokens = [w for w in tokens if not w.lower() in stopwords.words(\"english\")]\n",
        "      # 3. join back together\n",
        "      text = \" \".join(tokens)\n",
        "  # return text in lower case and stripped of whitespaces\n",
        "  text = text.lower().strip()\n",
        "  return text"
      ]
    },
    {
      "cell_type": "code",
      "source": [
        "df[\"clean\"] = df.iloc[:,0].apply(preprocess_text)"
      ],
      "metadata": {
        "id": "_KD1qfdod-N1"
      },
      "execution_count": null,
      "outputs": []
    },
    {
      "cell_type": "code",
      "source": [
        "df[\"clean\"][0]"
      ],
      "metadata": {
        "colab": {
          "base_uri": "https://localhost:8080/",
          "height": 35
        },
        "id": "TZHsO-2OjiFe",
        "outputId": "038f44a0-7a43-4e74-c982-669c445ed2f0"
      },
      "execution_count": null,
      "outputs": [
        {
          "output_type": "execute_result",
          "data": {
            "text/plain": [
              "'moved borland c visual c today tried compile c program complained function prototype problem turned typedef word ms c byte unsigned int could anyone shine light subject word byte ming lin'"
            ],
            "application/vnd.google.colaboratory.intrinsic+json": {
              "type": "string"
            }
          },
          "metadata": {},
          "execution_count": 14
        }
      ]
    },
    {
      "cell_type": "markdown",
      "source": [
        "\n",
        "\n",
        "---"
      ],
      "metadata": {
        "id": "NlaM-wXANw3W"
      }
    },
    {
      "cell_type": "markdown",
      "source": [
        "## **Task 3**"
      ],
      "metadata": {
        "id": "BvvV_sq8dUTN"
      }
    },
    {
      "cell_type": "markdown",
      "source": [
        "### **Tfidf Vectorizer**"
      ],
      "metadata": {
        "id": "gTwus-xg4X_J"
      }
    },
    {
      "cell_type": "markdown",
      "metadata": {
        "id": "dLL9wE_gv7Th"
      },
      "source": [
        "`create vector representation of each document using TF-IDF encoding`"
      ]
    },
    {
      "cell_type": "code",
      "execution_count": null,
      "metadata": {
        "id": "qDYt4R12v7Th"
      },
      "outputs": [],
      "source": [
        "# TODO code for task 3, hint, you can use TfidfVectorizer from sklearn\n",
        "from sklearn.feature_extraction.text import TfidfVectorizer\n",
        "\n",
        "vectorizer_word = TfidfVectorizer( analyzer=\"word\", max_df=0.6, min_df=5, ngram_range=(1, 2), norm=\"l2\")\n",
        "tfidf_vector= vectorizer_word.fit_transform(df[\"clean\"])"
      ]
    },
    {
      "cell_type": "markdown",
      "source": [
        "##**Task 4**"
      ],
      "metadata": {
        "id": "mh3nf-g9dbys"
      }
    },
    {
      "cell_type": "markdown",
      "metadata": {
        "id": "P96IzHuhv7Ti"
      },
      "source": [
        "`Apply Kmeans and Kmeans++ on the above extracted document vectors. Brifely describe how would you select the value of k`"
      ]
    },
    {
      "cell_type": "markdown",
      "source": [
        "### **Kmeans and Kmeans++**"
      ],
      "metadata": {
        "id": "OuQOu2jL4vXh"
      }
    },
    {
      "cell_type": "markdown",
      "source": [
        "\n",
        "\n",
        " **K-means clustering**  `is a type of unsupervised learning, which is used when you have unlabeled data (i.e., data without defined categories or groups). The goal of this algorithm is to find groups in the data, with the number of groups represented by the variable K.`"
      ],
      "metadata": {
        "id": "9TsVyzWt48Zp"
      }
    },
    {
      "cell_type": "markdown",
      "source": [
        "`The results of the K-means clustering algorithm are:`\n",
        "\n",
        "* `The centroids of the K clusters, which can be used to label new data`\n",
        "* `Labels for the training data (each data point is assigned to a single cluster)`"
      ],
      "metadata": {
        "id": "hyZcQ77q7RXe"
      }
    },
    {
      "cell_type": "markdown",
      "source": [
        "**Steps**\n",
        "\n",
        "* `Choose the number K of clusters`\n",
        "* `Select at random K points, the centroids (not necessarily from your dataset)`\n",
        "* `Assign each data point to the closest centroid That forms K clusters`\n",
        "* `Compute and place the new centroid of each cluster`\n",
        "* `Reassign each data point to the new closest centroid.`"
      ],
      "metadata": {
        "id": "JOQb4CnA74VU"
      }
    },
    {
      "cell_type": "markdown",
      "source": [
        "### **Random intilization**"
      ],
      "metadata": {
        "id": "iJem6thU-V1p"
      }
    },
    {
      "cell_type": "markdown",
      "source": [
        "`Random Partition Method`\n",
        "\n",
        "`In this method, we randomly assign each point in the data to a random cluster ID. Then, we group the points by their cluster ID and take the average (per cluster ID) to yield the initial points. Random Partition method is known to yield initial points close to the mean of the Data.`"
      ],
      "metadata": {
        "id": "zQMsgc8LRSAW"
      }
    },
    {
      "cell_type": "code",
      "execution_count": null,
      "metadata": {
        "id": "2FlIq6DUv7Ti"
      },
      "outputs": [],
      "source": [
        "#you just need to change init parameter to swtich between random intilization and k-means++ initialization. \n",
        "#init{‘k-means++’, ‘random’}, callable or array-like of shape (n_clusters, n_features), default=’k-means++’\n",
        "from sklearn.cluster import KMeans\n",
        "\n",
        "wcss = []\n",
        "for k in range(1,10):\n",
        "    kmean = KMeans(n_clusters=k,init='random')\n",
        "    kmean.fit(tfidf_vector)\n",
        "    wcss.append(kmean.inertia_)"
      ]
    },
    {
      "cell_type": "code",
      "source": [
        "wcss"
      ],
      "metadata": {
        "colab": {
          "base_uri": "https://localhost:8080/"
        },
        "id": "Z7Ct_T0U-Jkq",
        "outputId": "3c19152e-ba55-4ac9-faff-c7c00976ddb5"
      },
      "execution_count": null,
      "outputs": [
        {
          "output_type": "execute_result",
          "data": {
            "text/plain": [
              "[2715.0310782849733,\n",
              " 2698.9666746038947,\n",
              " 2688.1062963213026,\n",
              " 2678.028981206724,\n",
              " 2673.814688360752,\n",
              " 2664.615173412388,\n",
              " 2658.4185614971148,\n",
              " 2651.622684420542,\n",
              " 2653.2438461114198]"
            ]
          },
          "metadata": {},
          "execution_count": 17
        }
      ]
    },
    {
      "cell_type": "markdown",
      "source": [
        "```\n",
        "The way to evaluate the choice of K is made using a parameter known as WCSS\n",
        "WCSS stands for Within Cluster Sum of Squares\n",
        "```"
      ],
      "metadata": {
        "id": "IBc6v9J294O7"
      }
    },
    {
      "cell_type": "code",
      "source": [
        "plt.figure(figsize=(10,5))\n",
        "sns.lineplot(range(1, 10), wcss,marker='o',color='black')\n",
        "plt.title('The Elbow Method')\n",
        "plt.xlabel('Number of clusters')\n",
        "plt.ylabel('WCSS')\n",
        "plt.show()"
      ],
      "metadata": {
        "colab": {
          "base_uri": "https://localhost:8080/",
          "height": 372
        },
        "id": "6zskTmhTCmlq",
        "outputId": "2ffb4c27-d1bb-4517-dd3c-96fb49f06908"
      },
      "execution_count": null,
      "outputs": [
        {
          "output_type": "display_data",
          "data": {
            "text/plain": [
              "<Figure size 720x360 with 1 Axes>"
            ],
            "image/png": "[encoded data removed]"
          },
          "metadata": {
            "needs_background": "light"
          }
        }
      ]
    },
    {
      "cell_type": "markdown",
      "source": [
        "`Notes:`\n",
        "\n",
        "`The Elbow Method is then used to choose the best K value. In the depiction below we can see that after 5 there's no significant decrease in WCSS so 5 is the best here. Therefore there's an elbow shape that forms and it is usually a good idea to pick the number where this elbow is formed.`\n",
        "\n",
        "`select the value of k at the “elbow” ie the point after which the distortion/inertia start decreasing in a linear fashion`"
      ],
      "metadata": {
        "id": "98TFpLDh-lRi"
      }
    },
    {
      "cell_type": "code",
      "source": [
        "# Fitting K-Means to the dataset\n",
        "kmeans1 = KMeans(n_clusters = 5, init = 'random',max_iter=900,random_state = 1,n_init = 30)\n",
        "kmeans1.fit(tfidf_vector)"
      ],
      "metadata": {
        "id": "AS6yrVyVSHSs",
        "colab": {
          "base_uri": "https://localhost:8080/"
        },
        "outputId": "dfb37fb5-9d0b-4621-d4ad-cd278fe45703"
      },
      "execution_count": null,
      "outputs": [
        {
          "output_type": "execute_result",
          "data": {
            "text/plain": [
              "KMeans(init='random', max_iter=900, n_clusters=5, n_init=30, random_state=1)"
            ]
          },
          "metadata": {},
          "execution_count": 19
        }
      ]
    },
    {
      "cell_type": "markdown",
      "source": [
        "### **Evaluation Metric Clustering**"
      ],
      "metadata": {
        "id": "1FO2Fe1wEc6s"
      }
    },
    {
      "cell_type": "code",
      "source": [
        "#Standard measures of cluster quality\n",
        "from sklearn import metrics\n",
        "#Metrics\n",
        "print(\"Homogeneity: %0.4f\" % metrics.homogeneity_score(Y, kmeans1.labels_))\n",
        "print(\"Completeness: %0.4f\" % metrics.completeness_score(Y, kmeans1.labels_))\n",
        "print(\"V-measure: %0.4f\" % metrics.v_measure_score(Y, kmeans1.labels_))\n",
        "print(\"Adjusted Rand-Index: %.4f\"\n",
        "      % metrics.adjusted_rand_score(Y, kmeans1.labels_))\n",
        "print(\"Adjusted Mutual Info score: %.4f\"\n",
        "      % metrics.adjusted_mutual_info_score(Y,kmeans1.labels_))\n",
        "print(\"Silhouette Coefficient: %0.3f\"\n",
        "      % metrics.silhouette_score(tfidf_vector, kmeans1.labels_, sample_size=800))"
      ],
      "metadata": {
        "colab": {
          "base_uri": "https://localhost:8080/"
        },
        "id": "kXoQxjsqSWZj",
        "outputId": "f9024e2f-1954-4804-8952-7cf8c2677a8f"
      },
      "execution_count": null,
      "outputs": [
        {
          "output_type": "stream",
          "name": "stdout",
          "text": [
            "Homogeneity: 0.4022\n",
            "Completeness: 0.4272\n",
            "V-measure: 0.4143\n",
            "Adjusted Rand-Index: 0.2625\n",
            "Adjusted Mutual Info score: 0.4133\n",
            "Silhouette Coefficient: 0.003\n"
          ]
        }
      ]
    },
    {
      "cell_type": "markdown",
      "source": [
        "### **Task 6: compare the performance_2**"
      ],
      "metadata": {
        "id": "-ql32noHppFl"
      }
    },
    {
      "cell_type": "code",
      "source": [
        "from sklearn.metrics import mutual_info_score\n",
        "#display mutual information based scores for the first model\n",
        "print(\"mutual information based scores: %0.3f\" % mutual_info_score(Y,kmeans1.labels_))"
      ],
      "metadata": {
        "colab": {
          "base_uri": "https://localhost:8080/"
        },
        "id": "sMKe5wOfZBiT",
        "outputId": "337f3401-279d-4590-dd05-726beaa1f0a5"
      },
      "execution_count": null,
      "outputs": [
        {
          "output_type": "stream",
          "name": "stdout",
          "text": [
            "mutual information based scores: 0.646\n"
          ]
        }
      ]
    },
    {
      "cell_type": "code",
      "source": [
        "from sklearn.metrics.cluster import normalized_mutual_info_score\n",
        "normalized_mutual_info_score(Y, kmeans1.labels_)"
      ],
      "metadata": {
        "colab": {
          "base_uri": "https://localhost:8080/"
        },
        "id": "irnmk1MbZGA4",
        "outputId": "1c41b840-cadc-4a64-8055-30e455cc9bbd"
      },
      "execution_count": null,
      "outputs": [
        {
          "output_type": "execute_result",
          "data": {
            "text/plain": [
              "0.41432028188786846"
            ]
          },
          "metadata": {},
          "execution_count": 22
        }
      ]
    },
    {
      "cell_type": "markdown",
      "source": [
        "**Homogeneity**\n",
        "\n",
        "`uniform in composition or character ,each cluster contains only members of a single class`\n",
        "\n",
        "**Completeness**\n",
        "\n",
        "`is a property of a statistic in relation to a model for a set of observed data. In essence, it ensures that the distributions\n",
        "all members of a given class are assigned to the same cluster`\n",
        "\n",
        "**V-measure**\n",
        "\n",
        "`Their harmonic mean`\n",
        "\n",
        "<a>Bounded scores: 0.0 is as bad as it can be, 1.0 is a perfect score.\n",
        "\n",
        "**Silhouette Coefficient**\n",
        "\n",
        "`The score is bounded between -1 for incorrect clustering and +1 for highly dense clustering. Scores around zero indicate overlapping clusters`"
      ],
      "metadata": {
        "id": "8Jis1TlBC0TD"
      }
    },
    {
      "cell_type": "markdown",
      "source": [
        "### **k-means++ initialization**"
      ],
      "metadata": {
        "id": "b38zuMvPL6y3"
      }
    },
    {
      "cell_type": "markdown",
      "source": [
        "`Notes`\n",
        "\n",
        "`In theory, k-means++ is much nicer. It is a biased random sampling that prefers points that are farther from each other, and avoids close points. Random initialization may be unlucky and choose nearby centers.`\n",
        "\n",
        "`So in theory, k-means++ should require fewer iterations and have a higher chance of finding the global optimum.`"
      ],
      "metadata": {
        "id": "YF80ksdMRoI_"
      }
    },
    {
      "cell_type": "code",
      "source": [
        "# k-means++ initialization. \n",
        "wcss_2 = []\n",
        "for k in range(1,10):\n",
        "    kmean = KMeans(n_clusters=k,init='k-means++')\n",
        "    kmean.fit(tfidf_vector)\n",
        "    wcss_2.append(kmean.inertia_)"
      ],
      "metadata": {
        "id": "DFuh9K7OOyTK"
      },
      "execution_count": null,
      "outputs": []
    },
    {
      "cell_type": "code",
      "source": [
        "plt.figure(figsize=(10,5))\n",
        "sns.lineplot(range(1, 10), wcss_2,marker='o',color='black')\n",
        "plt.title('The Elbow Method')\n",
        "plt.xlabel('Number of clusters')\n",
        "plt.ylabel('WCSS')\n",
        "plt.show()"
      ],
      "metadata": {
        "colab": {
          "base_uri": "https://localhost:8080/",
          "height": 372
        },
        "id": "BbQtHJyrO7Xi",
        "outputId": "e644cd7a-a72c-47cd-9284-7aa51d64ab2a"
      },
      "execution_count": null,
      "outputs": [
        {
          "output_type": "display_data",
          "data": {
            "text/plain": [
              "<Figure size 720x360 with 1 Axes>"
            ],
            "image/png": "[encoded data removed]"
          },
          "metadata": {
            "needs_background": "light"
          }
        }
      ]
    },
    {
      "cell_type": "markdown",
      "source": [
        "`Notes:`\n",
        "\n",
        "`The Elbow Method is then used to choose the best K value. In the depiction below we can see that after 5 there's no significant decrease in WCSS so 5 is the best here. Therefore there's an elbow shape that forms and it is usually a good idea to pick the number where this elbow is formed.`"
      ],
      "metadata": {
        "id": "YG832hZIPqam"
      }
    },
    {
      "cell_type": "code",
      "source": [
        "# Fitting K-Means to the dataset\n",
        "kmeans2 = KMeans(n_clusters = 5, init = 'k-means++',n_init = 20,random_state=0)\n",
        "kmeans2.fit(tfidf_vector)"
      ],
      "metadata": {
        "id": "XyRSPLaJVzay",
        "colab": {
          "base_uri": "https://localhost:8080/"
        },
        "outputId": "763dcaec-bded-4509-c2b1-38e415c9acc3"
      },
      "execution_count": null,
      "outputs": [
        {
          "output_type": "execute_result",
          "data": {
            "text/plain": [
              "KMeans(n_clusters=5, n_init=20, random_state=0)"
            ]
          },
          "metadata": {},
          "execution_count": 25
        }
      ]
    },
    {
      "cell_type": "markdown",
      "source": [
        "### **Evaluation Metric Clustering**"
      ],
      "metadata": {
        "id": "5GmZxuxaPiL2"
      }
    },
    {
      "cell_type": "code",
      "source": [
        "#Standard measures of cluster quality\n",
        "from sklearn import metrics\n",
        "#Metrics\n",
        "print(\"Homogeneity: %0.4f\" % metrics.homogeneity_score(Y, kmeans2.labels_))\n",
        "print(\"Completeness: %0.4f\" % metrics.completeness_score(Y, kmeans2.labels_))\n",
        "print(\"V-measure: %0.4f\" % metrics.v_measure_score(Y, kmeans2.labels_))\n",
        "print(\"Adjusted Rand-Index: %.4f\"\n",
        "      % metrics.adjusted_rand_score(Y, kmeans2.labels_))\n",
        "print(\"Adjusted Mutual Info score: %.4f\"\n",
        "      % metrics.adjusted_mutual_info_score(Y,kmeans2.labels_))\n",
        "print(\"Silhouette Coefficient: %0.3f\"\n",
        "      % metrics.silhouette_score(tfidf_vector, kmeans2.labels_, sample_size=800))"
      ],
      "metadata": {
        "colab": {
          "base_uri": "https://localhost:8080/"
        },
        "id": "JHBZgcUeV7Xr",
        "outputId": "86da42f0-970b-4a1c-8f26-f9d6775aaaed"
      },
      "execution_count": null,
      "outputs": [
        {
          "output_type": "stream",
          "name": "stdout",
          "text": [
            "Homogeneity: 0.3651\n",
            "Completeness: 0.3953\n",
            "V-measure: 0.3796\n",
            "Adjusted Rand-Index: 0.2312\n",
            "Adjusted Mutual Info score: 0.3784\n",
            "Silhouette Coefficient: 0.003\n"
          ]
        }
      ]
    },
    {
      "cell_type": "markdown",
      "source": [
        "### **Task 6: compare the performance_2**"
      ],
      "metadata": {
        "id": "RrFjZzQzpitt"
      }
    },
    {
      "cell_type": "code",
      "source": [
        "from sklearn.metrics import mutual_info_score\n",
        "#display mutual information based scores for the first model\n",
        "print(\"mutual information based scores: %0.3f\" % mutual_info_score(Y, kmeans2.labels_))"
      ],
      "metadata": {
        "colab": {
          "base_uri": "https://localhost:8080/"
        },
        "id": "xuLmQnFnWkyg",
        "outputId": "f0eedc67-4553-4b0b-e173-963198dd9544"
      },
      "execution_count": null,
      "outputs": [
        {
          "output_type": "stream",
          "name": "stdout",
          "text": [
            "mutual information based scores: 0.586\n"
          ]
        }
      ]
    },
    {
      "cell_type": "markdown",
      "source": [
        "`good mutual Info score`\n",
        "\n",
        "`The MI score will fall in the range from 0 to 1. The higher value, the closer connection between this feature and the target, suggests that we should put this feature in the training dataset. If the MI score is 0 or very low like 0.01. the low score suggests a weak connection between this feature and the target`"
      ],
      "metadata": {
        "id": "ZJ6gLdUQY2zw"
      }
    },
    {
      "cell_type": "code",
      "source": [
        "from sklearn.metrics.cluster import normalized_mutual_info_score\n",
        "normalized_mutual_info_score(Y, kmeans2.labels_)"
      ],
      "metadata": {
        "colab": {
          "base_uri": "https://localhost:8080/"
        },
        "id": "0VYqxFAJXd9A",
        "outputId": "2497e487-2232-4023-bb30-e3a03e889dd5"
      },
      "execution_count": null,
      "outputs": [
        {
          "output_type": "execute_result",
          "data": {
            "text/plain": [
              "0.3795815532909374"
            ]
          },
          "metadata": {},
          "execution_count": 28
        }
      ]
    },
    {
      "cell_type": "markdown",
      "source": [
        "`Notes`\n",
        "\n",
        "`Normalized Mutual Information (NMI) is a normalization of the Mutual Information (MI) score to scale the results between 0 (no mutual information) and 1 (perfect correlation)`"
      ],
      "metadata": {
        "id": "bSOvBZCwXwJi"
      }
    },
    {
      "cell_type": "markdown",
      "source": [
        "\n",
        "\n",
        "---"
      ],
      "metadata": {
        "id": "6CL-Zge7PZrO"
      }
    },
    {
      "cell_type": "markdown",
      "source": [
        "##**Task 5**"
      ],
      "metadata": {
        "id": "CiyrNRbSdiC9"
      }
    },
    {
      "cell_type": "markdown",
      "metadata": {
        "id": "axr9WEXFv7Tj"
      },
      "source": [
        "`perform tricks on the above two approaches by considering the high-dimensional nature of the dataset`\n",
        "\n",
        "`you can consider PCA (from sklearn.decomposition import PCA), or other methods.` "
      ]
    },
    {
      "cell_type": "markdown",
      "source": [
        "### **KMeans with PCA**"
      ],
      "metadata": {
        "id": "AoGL8AWpaYTo"
      }
    },
    {
      "cell_type": "markdown",
      "source": [
        "`Notes`\n",
        "\n",
        "* `PCA does not support sparse input. So I will use TruncatedSVD alternative`"
      ],
      "metadata": {
        "id": "J3TlUF_Tb0Mo"
      }
    },
    {
      "cell_type": "code",
      "source": [
        "#Dimensionality reduction using truncated SVD\n",
        "from sklearn.decomposition import TruncatedSVD\n",
        "svd_kmean = TruncatedSVD(n_components=2000, random_state=42)\n",
        "kmean_svd = svd_kmean.fit_transform(tfidf_vector)"
      ],
      "metadata": {
        "id": "eQOQo5RLcxRc"
      },
      "execution_count": null,
      "outputs": []
    },
    {
      "cell_type": "code",
      "source": [
        "wcss = []\n",
        "for k in range(1,10):\n",
        "    kmean = KMeans(n_clusters=k,init='random')\n",
        "    kmean.fit(tfidf_vector)\n",
        "    wcss.append(kmean.inertia_)"
      ],
      "metadata": {
        "id": "vjBoccESlMAr"
      },
      "execution_count": null,
      "outputs": []
    },
    {
      "cell_type": "code",
      "source": [
        "km_svd = KMeans(n_clusters=5, init='random',random_state=0,n_init = 30,max_iter=1000)"
      ],
      "metadata": {
        "id": "7smLxEsuhzUq"
      },
      "execution_count": null,
      "outputs": []
    },
    {
      "cell_type": "code",
      "source": [
        "km_svd.fit(kmean_svd)"
      ],
      "metadata": {
        "colab": {
          "base_uri": "https://localhost:8080/"
        },
        "id": "_1pJQAKhinrT",
        "outputId": "fb2854fa-024a-41d0-cca4-9567cca2458b"
      },
      "execution_count": null,
      "outputs": [
        {
          "output_type": "execute_result",
          "data": {
            "text/plain": [
              "KMeans(init='random', max_iter=1000, n_clusters=5, n_init=30, random_state=0)"
            ]
          },
          "metadata": {},
          "execution_count": 32
        }
      ]
    },
    {
      "cell_type": "code",
      "source": [
        "#Metrics\n",
        "print(\"Homogeneity: %0.4f\" % metrics.homogeneity_score(Y, km_svd.labels_))\n",
        "print(\"Completeness: %0.4f\" % metrics.completeness_score(Y, km_svd.labels_))\n",
        "print(\"V-measure: %0.4f\" % metrics.v_measure_score(Y, km_svd.labels_))\n",
        "print(\"Adjusted Rand-Index: %.4f\"\n",
        "      % metrics.adjusted_rand_score(Y, km_svd.labels_))\n",
        "print(\"Adjusted Mutual Info score: %.4f\"\n",
        "      % metrics.adjusted_mutual_info_score(Y,km_svd.labels_))\n",
        "print(\"Silhouette Coefficient: %0.3f\"\n",
        "      % metrics.silhouette_score(tfidf_vector, km_svd.labels_, sample_size=1000))"
      ],
      "metadata": {
        "colab": {
          "base_uri": "https://localhost:8080/"
        },
        "id": "6CrdAz_siz4R",
        "outputId": "4f6fc1cc-c507-46ec-e29c-bed30f7399bb"
      },
      "execution_count": null,
      "outputs": [
        {
          "output_type": "stream",
          "name": "stdout",
          "text": [
            "Homogeneity: 0.3272\n",
            "Completeness: 0.4049\n",
            "V-measure: 0.3619\n",
            "Adjusted Rand-Index: 0.1946\n",
            "Adjusted Mutual Info score: 0.3607\n",
            "Silhouette Coefficient: 0.008\n"
          ]
        }
      ]
    },
    {
      "cell_type": "markdown",
      "source": [
        "### **Task 6: compare the performance_3**"
      ],
      "metadata": {
        "id": "Ihg5O2_bpdGN"
      }
    },
    {
      "cell_type": "code",
      "source": [
        "from sklearn.metrics import mutual_info_score\n",
        "#display mutual information based scores for the first model\n",
        "print(\"mutual information based scores: %0.3f\" % mutual_info_score(Y, km_svd.labels_))"
      ],
      "metadata": {
        "colab": {
          "base_uri": "https://localhost:8080/"
        },
        "id": "lj71ZxTdjeBa",
        "outputId": "8d340e93-726a-4541-d94d-2abea5693daf"
      },
      "execution_count": null,
      "outputs": [
        {
          "output_type": "stream",
          "name": "stdout",
          "text": [
            "mutual information based scores: 0.525\n"
          ]
        }
      ]
    },
    {
      "cell_type": "markdown",
      "source": [
        "\n",
        "\n",
        "---"
      ],
      "metadata": {
        "id": "0CmXbdO8jn27"
      }
    },
    {
      "cell_type": "markdown",
      "source": [
        "### **KMeans++ with PCA**"
      ],
      "metadata": {
        "id": "pduoNcUQndMM"
      }
    },
    {
      "cell_type": "code",
      "source": [
        "svd_kmean = TruncatedSVD(n_components=2000, random_state=42)\n",
        "kmean_svd = svd_kmean.fit_transform(tfidf_vector)"
      ],
      "metadata": {
        "id": "wm0FpEfanmjX"
      },
      "execution_count": null,
      "outputs": []
    },
    {
      "cell_type": "code",
      "source": [
        "km_svd2 = KMeans(n_clusters=5, init='k-means++',random_state=1,n_init = 30,max_iter=1000)"
      ],
      "metadata": {
        "id": "RcWkpZZ7nmak"
      },
      "execution_count": null,
      "outputs": []
    },
    {
      "cell_type": "code",
      "source": [
        "km_svd2.fit(kmean_svd)"
      ],
      "metadata": {
        "colab": {
          "base_uri": "https://localhost:8080/"
        },
        "id": "-9eHBUZZnwuX",
        "outputId": "0c4e49e6-ff9c-4dd8-df85-244e9587d3de"
      },
      "execution_count": null,
      "outputs": [
        {
          "output_type": "execute_result",
          "data": {
            "text/plain": [
              "KMeans(max_iter=1000, n_clusters=5, n_init=30, random_state=1)"
            ]
          },
          "metadata": {},
          "execution_count": 37
        }
      ]
    },
    {
      "cell_type": "code",
      "source": [
        "#Metrics\n",
        "print(\"Homogeneity: %0.4f\" % metrics.homogeneity_score(Y, km_svd2.labels_))\n",
        "print(\"Completeness: %0.4f\" % metrics.completeness_score(Y, km_svd2.labels_))\n",
        "print(\"V-measure: %0.4f\" % metrics.v_measure_score(Y, km_svd2.labels_))\n",
        "print(\"Adjusted Rand-Index: %.4f\"\n",
        "      % metrics.adjusted_rand_score(Y, km_svd2.labels_))\n",
        "print(\"Adjusted Mutual Info score: %.4f\"\n",
        "      % metrics.adjusted_mutual_info_score(Y,km_svd2.labels_))\n",
        "print(\"Silhouette Coefficient: %0.3f\"\n",
        "      % metrics.silhouette_score(tfidf_vector, km_svd2.labels_, sample_size=1000))"
      ],
      "metadata": {
        "colab": {
          "base_uri": "https://localhost:8080/"
        },
        "id": "R5ReVgYZn3vX",
        "outputId": "1b2ceab9-05d9-4685-e4ee-2e99595c1a21"
      },
      "execution_count": null,
      "outputs": [
        {
          "output_type": "stream",
          "name": "stdout",
          "text": [
            "Homogeneity: 0.3862\n",
            "Completeness: 0.4090\n",
            "V-measure: 0.3973\n",
            "Adjusted Rand-Index: 0.2504\n",
            "Adjusted Mutual Info score: 0.3962\n",
            "Silhouette Coefficient: 0.003\n"
          ]
        }
      ]
    },
    {
      "cell_type": "markdown",
      "source": [
        "### **Task 6: compare the performance_4**"
      ],
      "metadata": {
        "id": "2TJqhgsIpFx-"
      }
    },
    {
      "cell_type": "code",
      "source": [
        "from sklearn.metrics import mutual_info_score\n",
        "#display mutual information based scores for the first model\n",
        "print(\"mutual information based scores: %0.3f\" % mutual_info_score(Y, km_svd2.labels_))"
      ],
      "metadata": {
        "colab": {
          "base_uri": "https://localhost:8080/"
        },
        "id": "edGrO4jfn8mY",
        "outputId": "a2a8059b-2bd5-4376-f6a5-59cba48337d2"
      },
      "execution_count": null,
      "outputs": [
        {
          "output_type": "stream",
          "name": "stdout",
          "text": [
            "mutual information based scores: 0.620\n"
          ]
        }
      ]
    },
    {
      "cell_type": "markdown",
      "source": [
        "## **Task 6**"
      ],
      "metadata": {
        "id": "KJsjfmutdmUt"
      }
    },
    {
      "cell_type": "markdown",
      "metadata": {
        "id": "f6lft8bAv7Tj"
      },
      "source": [
        "`compare the performance of the above four approaches on the given`"
      ]
    },
    {
      "cell_type": "code",
      "execution_count": null,
      "metadata": {
        "id": "YBIT9h60v7Tk"
      },
      "outputs": [],
      "source": [
        "# TODO for Task 6\n",
        "# for comparing the performance of the above four approaches :\n",
        "from sklearn.metrics import mutual_info_score\n",
        "\n",
        "model_kmeans1=mutual_info_score(dataset.target,kmeans1.labels_)\n",
        "model_kmeans2=mutual_info_score(dataset.target,kmeans2.labels_)\n",
        "model_kmeans3=mutual_info_score(dataset.target,km_svd.labels_)\n",
        "model_kmeans4=mutual_info_score(dataset.target,km_svd2.labels_)"
      ]
    },
    {
      "cell_type": "code",
      "source": [
        "# print the scores of each approach:\n",
        "\n",
        "print(\"model_kmeans1 is : \",model_kmeans1,'\\n'\n",
        "      \"model_kmeans2 is : \",model_kmeans2,'\\n'\n",
        "      \"model_kmeans3 is : \",model_kmeans3,'\\n'\n",
        "      \"model_kmeans4 is : \",model_kmeans4,)"
      ],
      "metadata": {
        "colab": {
          "base_uri": "https://localhost:8080/"
        },
        "id": "W-3ObyxGhBHF",
        "outputId": "90be63be-29f1-4c6e-b337-51bcd2bfe6ef"
      },
      "execution_count": null,
      "outputs": [
        {
          "output_type": "stream",
          "name": "stdout",
          "text": [
            "model_kmeans1 is :  0.6459646095044479 \n",
            "model_kmeans2 is :  0.5863182511974536 \n",
            "model_kmeans3 is :  0.5254708411240258 \n",
            "model_kmeans4 is :  0.6203018920463748\n"
          ]
        }
      ]
    },
    {
      "cell_type": "code",
      "source": [
        "# draw the bar plot that shows the difference :\n",
        "\n",
        "data = {'Kmeans++':model_kmeans2,\n",
        "        'random':model_kmeans1 ,\n",
        "        'Kmeans++ after LSA':model_kmeans4,\n",
        "        'random after LSA':model_kmeans3,\n",
        "        }\n",
        "courses = list(data.keys())\n",
        "values = list(data.values())\n",
        "  \n",
        "fig = plt.figure(figsize = (15, 10))\n",
        " \n",
        "plt.bar(courses, values, color ='green',width = 0.5)\n",
        "\n",
        "plt.title(\"compare the performance of the above four approaches: \")\n",
        "\n",
        "plt.xlabel(\"type of init(K-means++ and random)\")\n",
        "plt.ylabel(\"the value\")\n",
        "\n",
        "plt.show()"
      ],
      "metadata": {
        "colab": {
          "base_uri": "https://localhost:8080/",
          "height": 644
        },
        "id": "k4G8P7dihGWK",
        "outputId": "7bd16c9c-710b-41dd-d817-d88db3634197"
      },
      "execution_count": null,
      "outputs": [
        {
          "output_type": "display_data",
          "data": {
            "text/plain": [
              "<Figure size 1080x720 with 1 Axes>"
            ],
            "image/png": "[encoded data removed]"
          },
          "metadata": {
            "needs_background": "light"
          }
        }
      ]
    },
    {
      "cell_type": "markdown",
      "source": [
        "\n",
        "\n",
        "---\n"
      ],
      "metadata": {
        "id": "j1aDbhk4pPQ1"
      }
    }
  ],
  "metadata": {
    "language_info": {
      "name": "python"
    },
    "orig_nbformat": 4,
    "colab": {
      "name": "lab_3.ipynb",
      "provenance": [],
      "collapsed_sections": []
    },
    "kernelspec": {
      "name": "python3",
      "display_name": "Python 3"
    }
  },
  "nbformat": 4,
  "nbformat_minor": 0
}